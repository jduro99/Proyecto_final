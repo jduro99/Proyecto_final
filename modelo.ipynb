{
 "cells": [
  {
   "cell_type": "code",
   "execution_count": 15,
   "metadata": {},
   "outputs": [
    {
     "ename": "AttributeError",
     "evalue": "'ellipsis' object has no attribute 'predict'",
     "output_type": "error",
     "traceback": [
      "\u001b[1;31m---------------------------------------------------------------------------\u001b[0m",
      "\u001b[1;31mAttributeError\u001b[0m                            Traceback (most recent call last)",
      "Cell \u001b[1;32mIn[15], line 36\u001b[0m\n\u001b[0;32m     33\u001b[0m input_data \u001b[38;5;241m=\u001b[39m np\u001b[38;5;241m.\u001b[39marray([[age, dependents, occupation, city_tier, rent, loan, income, disposible_income, gasto_fijo, gasto_variable]])\n\u001b[0;32m     35\u001b[0m \u001b[38;5;66;03m# Hacer la predicción\u001b[39;00m\n\u001b[1;32m---> 36\u001b[0m predictions \u001b[38;5;241m=\u001b[39m \u001b[43mmodel\u001b[49m\u001b[38;5;241;43m.\u001b[39;49m\u001b[43mpredict\u001b[49m(input_data)\n\u001b[0;32m     38\u001b[0m \u001b[38;5;66;03m# Hacer predicciones\u001b[39;00m\n\u001b[0;32m     39\u001b[0m \u001b[38;5;66;03m#predictions = model.predict(age,dependents,occupation,city_tier,rent,loan,income,disposible_income,gasto_fijo,gasto_variable)\u001b[39;00m\n\u001b[0;32m     40\u001b[0m \n\u001b[0;32m     41\u001b[0m \u001b[38;5;66;03m# Mostrar resultados\u001b[39;00m\n\u001b[0;32m     42\u001b[0m \u001b[38;5;28mprint\u001b[39m(\u001b[38;5;124m\"\u001b[39m\u001b[38;5;124mPredicciones:\u001b[39m\u001b[38;5;124m\"\u001b[39m, predictions)\n",
      "\u001b[1;31mAttributeError\u001b[0m: 'ellipsis' object has no attribute 'predict'"
     ]
    }
   ],
   "source": [
    "import pickle\n",
    "import pandas as pd\n",
    "import numpy as np\n",
    "from azureml.core import Workspace\n",
    "from azureml.core.model import Model\n",
    "\n",
    "# Ruta al archivo del modelo\n",
    "model_path = 'modelo\\model.pkl'\n",
    "\n",
    "# Cargar el modelo desde el archivo .pkl\n",
    "def load_model(path):\n",
    "    with open(path, 'rb') as file:\n",
    "        model = pickle.load(file)\n",
    "    return model\n",
    "\n",
    "# Cargar el modelo\n",
    "model = load_model(model_path)\n",
    "\n",
    "# Ejemplo de datos de entrada\n",
    "# Cambia esto según las características esperadas por tu modelo\n",
    "\n",
    "age = int(input(\"Edad: \"))\n",
    "dependents= int(input(\"Dependientes: \"))\n",
    "occupation = input(\"Ocupación: \")\n",
    "city_tier = input(\"Ciudad: \")\n",
    "rent=   (input(\"Renta (₹): \"))\n",
    "loan=   (input(\"Préstamo (₹): \"))\n",
    "income = (input(\"Ingreso mensual (₹): \"))\n",
    "disposible_income = (input(\"Ingreso disponible (₹): \"))\n",
    "gasto_fijo = (input(\"Gastos fijos (₹): \"))\n",
    "gasto_variable =  (input(\"Gastos variables (₹): \"))\n",
    "\n",
    "input_data = np.array([[age, dependents, occupation, city_tier, rent, loan, income, disposible_income, gasto_fijo, gasto_variable]])\n",
    "\n",
    "# Hacer la predicción\n",
    "predictions = model.predict(input_data)\n",
    "\n",
    "# Hacer predicciones\n",
    "#predictions = model.predict(age,dependents,occupation,city_tier,rent,loan,income,disposible_income,gasto_fijo,gasto_variable)\n",
    "\n",
    "# Mostrar resultados\n",
    "print(\"Predicciones:\", predictions)\n"
   ]
  },
  {
   "cell_type": "code",
   "execution_count": 12,
   "metadata": {},
   "outputs": [
    {
     "name": "stdout",
     "output_type": "stream",
     "text": [
      "Ellipsis\n"
     ]
    }
   ],
   "source": [
    "print(model)"
   ]
  },
  {
   "cell_type": "code",
   "execution_count": 13,
   "metadata": {},
   "outputs": [
    {
     "name": "stdout",
     "output_type": "stream",
     "text": [
      "Error al cargar el modelo: [Errno 2] No such file or directory: 'ruta/del/modelo.pkl'\n",
      "El modelo no se pudo cargar correctamente.\n"
     ]
    }
   ],
   "source": [
    "import joblib\n",
    "\n",
    "def load_model(path):\n",
    "    try:\n",
    "        model = joblib.load(path)\n",
    "        print(\"Modelo cargado correctamente.\")\n",
    "        return model\n",
    "    except Exception as e:\n",
    "        print(\"Error al cargar el modelo:\", e)\n",
    "        return None\n",
    "\n",
    "# Ruta del modelo descargado de Azure\n",
    "model_path = \"ruta/del/modelo.pkl\"  # Asegúrate de poner la ruta correcta\n",
    "\n",
    "# Cargar el modelo\n",
    "model = load_model(model_path)\n",
    "\n",
    "# Verificar si el modelo se cargó bien\n",
    "if model is None:\n",
    "    print(\"El modelo no se pudo cargar correctamente.\")\n",
    "else:\n",
    "    print(\"Modelo cargado:\", type(model))\n"
   ]
  },
  {
   "cell_type": "code",
   "execution_count": 14,
   "metadata": {},
   "outputs": [
    {
     "name": "stdout",
     "output_type": "stream",
     "text": [
      "['__bool__', '__class__', '__delattr__', '__dir__', '__doc__', '__eq__', '__format__', '__ge__', '__getattribute__', '__getstate__', '__gt__', '__hash__', '__init__', '__init_subclass__', '__le__', '__lt__', '__ne__', '__new__', '__reduce__', '__reduce_ex__', '__repr__', '__setattr__', '__sizeof__', '__str__', '__subclasshook__']\n"
     ]
    }
   ],
   "source": [
    "print(dir(model))"
   ]
  },
  {
   "cell_type": "markdown",
   "metadata": {},
   "source": [
    "pip install azureml-core azureml-defaults scikit-learn"
   ]
  },
  {
   "cell_type": "code",
   "execution_count": 7,
   "metadata": {},
   "outputs": [
    {
     "name": "stdout",
     "output_type": "stream",
     "text": [
      "Requirement already satisfied: azureml-train in c:\\users\\usuario\\documents\\github\\proyecto_final\\azure\\lib\\site-packages (1.59.0)\n",
      "Requirement already satisfied: azureml-train-core~=1.59.0 in c:\\users\\usuario\\documents\\github\\proyecto_final\\azure\\lib\\site-packages (from azureml-train) (1.59.0)\n",
      "Requirement already satisfied: azureml-train-restclients-hyperdrive~=1.59.0 in c:\\users\\usuario\\documents\\github\\proyecto_final\\azure\\lib\\site-packages (from azureml-train-core~=1.59.0->azureml-train) (1.59.0)\n",
      "Requirement already satisfied: azureml-core~=1.59.0 in c:\\users\\usuario\\documents\\github\\proyecto_final\\azure\\lib\\site-packages (from azureml-train-core~=1.59.0->azureml-train) (1.59.0)\n",
      "Requirement already satisfied: azureml-telemetry~=1.59.0 in c:\\users\\usuario\\documents\\github\\proyecto_final\\azure\\lib\\site-packages (from azureml-train-core~=1.59.0->azureml-train) (1.59.0)\n",
      "Requirement already satisfied: pytz in c:\\users\\usuario\\documents\\github\\proyecto_final\\azure\\lib\\site-packages (from azureml-core~=1.59.0->azureml-train-core~=1.59.0->azureml-train) (2024.2)\n",
      "Requirement already satisfied: backports.tempfile in c:\\users\\usuario\\documents\\github\\proyecto_final\\azure\\lib\\site-packages (from azureml-core~=1.59.0->azureml-train-core~=1.59.0->azureml-train) (1.0)\n",
      "Requirement already satisfied: pathspec<1.0.0 in c:\\users\\usuario\\documents\\github\\proyecto_final\\azure\\lib\\site-packages (from azureml-core~=1.59.0->azureml-train-core~=1.59.0->azureml-train) (0.12.1)\n",
      "Requirement already satisfied: requests<3.0.0,>=2.19.1 in c:\\users\\usuario\\documents\\github\\proyecto_final\\azure\\lib\\site-packages (from requests[socks]<3.0.0,>=2.19.1->azureml-core~=1.59.0->azureml-train-core~=1.59.0->azureml-train) (2.32.3)\n",
      "Requirement already satisfied: msal<2.0.0,>=1.15.0 in c:\\users\\usuario\\documents\\github\\proyecto_final\\azure\\lib\\site-packages (from azureml-core~=1.59.0->azureml-train-core~=1.59.0->azureml-train) (1.31.1)\n",
      "Requirement already satisfied: msal-extensions<=2.0.0,>=0.3.0 in c:\\users\\usuario\\documents\\github\\proyecto_final\\azure\\lib\\site-packages (from azureml-core~=1.59.0->azureml-train-core~=1.59.0->azureml-train) (1.2.0)\n",
      "Requirement already satisfied: knack<0.13.0 in c:\\users\\usuario\\documents\\github\\proyecto_final\\azure\\lib\\site-packages (from azureml-core~=1.59.0->azureml-train-core~=1.59.0->azureml-train) (0.12.0)\n",
      "Requirement already satisfied: azure-core<2.0.0 in c:\\users\\usuario\\documents\\github\\proyecto_final\\azure\\lib\\site-packages (from azureml-core~=1.59.0->azureml-train-core~=1.59.0->azureml-train) (1.32.0)\n",
      "Requirement already satisfied: pkginfo in c:\\users\\usuario\\documents\\github\\proyecto_final\\azure\\lib\\site-packages (from azureml-core~=1.59.0->azureml-train-core~=1.59.0->azureml-train) (1.12.0)\n",
      "Requirement already satisfied: argcomplete<4 in c:\\users\\usuario\\documents\\github\\proyecto_final\\azure\\lib\\site-packages (from azureml-core~=1.59.0->azureml-train-core~=1.59.0->azureml-train) (3.5.3)\n",
      "Requirement already satisfied: humanfriendly<11.0,>=4.7 in c:\\users\\usuario\\documents\\github\\proyecto_final\\azure\\lib\\site-packages (from azureml-core~=1.59.0->azureml-train-core~=1.59.0->azureml-train) (10.0)\n",
      "Requirement already satisfied: paramiko<4.0.0,>=2.0.8 in c:\\users\\usuario\\documents\\github\\proyecto_final\\azure\\lib\\site-packages (from azureml-core~=1.59.0->azureml-train-core~=1.59.0->azureml-train) (3.5.0)\n",
      "Requirement already satisfied: azure-mgmt-resource<=24.0.0,>=15.0.0 in c:\\users\\usuario\\documents\\github\\proyecto_final\\azure\\lib\\site-packages (from azureml-core~=1.59.0->azureml-train-core~=1.59.0->azureml-train) (23.2.0)\n",
      "Requirement already satisfied: azure-mgmt-containerregistry<11,>=8.2.0 in c:\\users\\usuario\\documents\\github\\proyecto_final\\azure\\lib\\site-packages (from azureml-core~=1.59.0->azureml-train-core~=1.59.0->azureml-train) (10.3.0)\n",
      "Requirement already satisfied: azure-mgmt-storage<=22.0.0,>=16.0.0 in c:\\users\\usuario\\documents\\github\\proyecto_final\\azure\\lib\\site-packages (from azureml-core~=1.59.0->azureml-train-core~=1.59.0->azureml-train) (22.0.0)\n",
      "Requirement already satisfied: azure-mgmt-keyvault<11.0.0,>=0.40.0 in c:\\users\\usuario\\documents\\github\\proyecto_final\\azure\\lib\\site-packages (from azureml-core~=1.59.0->azureml-train-core~=1.59.0->azureml-train) (10.3.1)\n",
      "Requirement already satisfied: azure-mgmt-authorization<5,>=0.40.0 in c:\\users\\usuario\\documents\\github\\proyecto_final\\azure\\lib\\site-packages (from azureml-core~=1.59.0->azureml-train-core~=1.59.0->azureml-train) (4.0.0)\n",
      "Requirement already satisfied: azure-mgmt-network<=29.0.0 in c:\\users\\usuario\\documents\\github\\proyecto_final\\azure\\lib\\site-packages (from azureml-core~=1.59.0->azureml-train-core~=1.59.0->azureml-train) (28.1.0)\n",
      "Requirement already satisfied: azure-graphrbac<1.0.0,>=0.40.0 in c:\\users\\usuario\\documents\\github\\proyecto_final\\azure\\lib\\site-packages (from azureml-core~=1.59.0->azureml-train-core~=1.59.0->azureml-train) (0.61.2)\n",
      "Requirement already satisfied: azure-common<2.0.0,>=1.1.12 in c:\\users\\usuario\\documents\\github\\proyecto_final\\azure\\lib\\site-packages (from azureml-core~=1.59.0->azureml-train-core~=1.59.0->azureml-train) (1.1.28)\n",
      "Requirement already satisfied: msrest<=0.7.1,>=0.5.1 in c:\\users\\usuario\\documents\\github\\proyecto_final\\azure\\lib\\site-packages (from azureml-core~=1.59.0->azureml-train-core~=1.59.0->azureml-train) (0.7.1)\n",
      "Requirement already satisfied: msrestazure<=0.7,>=0.4.33 in c:\\users\\usuario\\documents\\github\\proyecto_final\\azure\\lib\\site-packages (from azureml-core~=1.59.0->azureml-train-core~=1.59.0->azureml-train) (0.6.4.post1)\n",
      "Requirement already satisfied: urllib3<3.0.0,>1.26.17 in c:\\users\\usuario\\documents\\github\\proyecto_final\\azure\\lib\\site-packages (from azureml-core~=1.59.0->azureml-train-core~=1.59.0->azureml-train) (2.3.0)\n",
      "Requirement already satisfied: packaging<=25.0,>=20.0 in c:\\users\\usuario\\documents\\github\\proyecto_final\\azure\\lib\\site-packages (from azureml-core~=1.59.0->azureml-train-core~=1.59.0->azureml-train) (24.2)\n",
      "Requirement already satisfied: python-dateutil<3.0.0,>=2.7.3 in c:\\users\\usuario\\documents\\github\\proyecto_final\\azure\\lib\\site-packages (from azureml-core~=1.59.0->azureml-train-core~=1.59.0->azureml-train) (2.9.0.post0)\n",
      "Requirement already satisfied: ndg-httpsclient<=0.5.1 in c:\\users\\usuario\\documents\\github\\proyecto_final\\azure\\lib\\site-packages (from azureml-core~=1.59.0->azureml-train-core~=1.59.0->azureml-train) (0.5.1)\n",
      "Requirement already satisfied: SecretStorage<4.0.0 in c:\\users\\usuario\\documents\\github\\proyecto_final\\azure\\lib\\site-packages (from azureml-core~=1.59.0->azureml-train-core~=1.59.0->azureml-train) (3.3.3)\n",
      "Requirement already satisfied: jsonpickle<5.0.0 in c:\\users\\usuario\\documents\\github\\proyecto_final\\azure\\lib\\site-packages (from azureml-core~=1.59.0->azureml-train-core~=1.59.0->azureml-train) (4.0.1)\n",
      "Requirement already satisfied: contextlib2<22.0.0 in c:\\users\\usuario\\documents\\github\\proyecto_final\\azure\\lib\\site-packages (from azureml-core~=1.59.0->azureml-train-core~=1.59.0->azureml-train) (21.6.0)\n",
      "Requirement already satisfied: docker<8.0.0 in c:\\users\\usuario\\documents\\github\\proyecto_final\\azure\\lib\\site-packages (from azureml-core~=1.59.0->azureml-train-core~=1.59.0->azureml-train) (7.1.0)\n",
      "Requirement already satisfied: PyJWT<3.0.0 in c:\\users\\usuario\\documents\\github\\proyecto_final\\azure\\lib\\site-packages (from azureml-core~=1.59.0->azureml-train-core~=1.59.0->azureml-train) (2.10.1)\n",
      "Requirement already satisfied: adal<=1.2.7,>=1.2.0 in c:\\users\\usuario\\documents\\github\\proyecto_final\\azure\\lib\\site-packages (from azureml-core~=1.59.0->azureml-train-core~=1.59.0->azureml-train) (1.2.7)\n",
      "Requirement already satisfied: pyopenssl<25.0.0 in c:\\users\\usuario\\documents\\github\\proyecto_final\\azure\\lib\\site-packages (from azureml-core~=1.59.0->azureml-train-core~=1.59.0->azureml-train) (24.3.0)\n",
      "Requirement already satisfied: jmespath<2.0.0 in c:\\users\\usuario\\documents\\github\\proyecto_final\\azure\\lib\\site-packages (from azureml-core~=1.59.0->azureml-train-core~=1.59.0->azureml-train) (1.0.1)\n",
      "Requirement already satisfied: applicationinsights in c:\\users\\usuario\\documents\\github\\proyecto_final\\azure\\lib\\site-packages (from azureml-telemetry~=1.59.0->azureml-train-core~=1.59.0->azureml-train) (0.11.10)\n",
      "Requirement already satisfied: cryptography>=1.1.0 in c:\\users\\usuario\\documents\\github\\proyecto_final\\azure\\lib\\site-packages (from adal<=1.2.7,>=1.2.0->azureml-core~=1.59.0->azureml-train-core~=1.59.0->azureml-train) (44.0.0)\n",
      "Requirement already satisfied: six>=1.11.0 in c:\\users\\usuario\\documents\\github\\proyecto_final\\azure\\lib\\site-packages (from azure-core<2.0.0->azureml-core~=1.59.0->azureml-train-core~=1.59.0->azureml-train) (1.17.0)\n",
      "Requirement already satisfied: typing-extensions>=4.6.0 in c:\\users\\usuario\\documents\\github\\proyecto_final\\azure\\lib\\site-packages (from azure-core<2.0.0->azureml-core~=1.59.0->azureml-train-core~=1.59.0->azureml-train) (4.12.2)\n",
      "Requirement already satisfied: isodate<1.0.0,>=0.6.1 in c:\\users\\usuario\\documents\\github\\proyecto_final\\azure\\lib\\site-packages (from azure-mgmt-authorization<5,>=0.40.0->azureml-core~=1.59.0->azureml-train-core~=1.59.0->azureml-train) (0.7.2)\n",
      "Requirement already satisfied: azure-mgmt-core<2.0.0,>=1.3.2 in c:\\users\\usuario\\documents\\github\\proyecto_final\\azure\\lib\\site-packages (from azure-mgmt-authorization<5,>=0.40.0->azureml-core~=1.59.0->azureml-train-core~=1.59.0->azureml-train) (1.5.0)\n",
      "Requirement already satisfied: pywin32>=304 in c:\\users\\usuario\\documents\\github\\proyecto_final\\azure\\lib\\site-packages (from docker<8.0.0->azureml-core~=1.59.0->azureml-train-core~=1.59.0->azureml-train) (308)\n",
      "Requirement already satisfied: pyreadline3 in c:\\users\\usuario\\documents\\github\\proyecto_final\\azure\\lib\\site-packages (from humanfriendly<11.0,>=4.7->azureml-core~=1.59.0->azureml-train-core~=1.59.0->azureml-train) (3.5.4)\n",
      "Requirement already satisfied: pygments in c:\\users\\usuario\\documents\\github\\proyecto_final\\azure\\lib\\site-packages (from knack<0.13.0->azureml-core~=1.59.0->azureml-train-core~=1.59.0->azureml-train) (2.19.1)\n",
      "Requirement already satisfied: pyyaml in c:\\users\\usuario\\documents\\github\\proyecto_final\\azure\\lib\\site-packages (from knack<0.13.0->azureml-core~=1.59.0->azureml-train-core~=1.59.0->azureml-train) (6.0.2)\n",
      "Requirement already satisfied: tabulate in c:\\users\\usuario\\documents\\github\\proyecto_final\\azure\\lib\\site-packages (from knack<0.13.0->azureml-core~=1.59.0->azureml-train-core~=1.59.0->azureml-train) (0.9.0)\n",
      "Requirement already satisfied: portalocker<3,>=1.4 in c:\\users\\usuario\\documents\\github\\proyecto_final\\azure\\lib\\site-packages (from msal-extensions<=2.0.0,>=0.3.0->azureml-core~=1.59.0->azureml-train-core~=1.59.0->azureml-train) (2.10.1)\n",
      "Requirement already satisfied: certifi>=2017.4.17 in c:\\users\\usuario\\documents\\github\\proyecto_final\\azure\\lib\\site-packages (from msrest<=0.7.1,>=0.5.1->azureml-core~=1.59.0->azureml-train-core~=1.59.0->azureml-train) (2024.12.14)\n",
      "Requirement already satisfied: requests-oauthlib>=0.5.0 in c:\\users\\usuario\\documents\\github\\proyecto_final\\azure\\lib\\site-packages (from msrest<=0.7.1,>=0.5.1->azureml-core~=1.59.0->azureml-train-core~=1.59.0->azureml-train) (2.0.0)\n",
      "Requirement already satisfied: pyasn1>=0.1.1 in c:\\users\\usuario\\documents\\github\\proyecto_final\\azure\\lib\\site-packages (from ndg-httpsclient<=0.5.1->azureml-core~=1.59.0->azureml-train-core~=1.59.0->azureml-train) (0.6.1)\n",
      "Requirement already satisfied: bcrypt>=3.2 in c:\\users\\usuario\\documents\\github\\proyecto_final\\azure\\lib\\site-packages (from paramiko<4.0.0,>=2.0.8->azureml-core~=1.59.0->azureml-train-core~=1.59.0->azureml-train) (4.2.1)\n",
      "Requirement already satisfied: pynacl>=1.5 in c:\\users\\usuario\\documents\\github\\proyecto_final\\azure\\lib\\site-packages (from paramiko<4.0.0,>=2.0.8->azureml-core~=1.59.0->azureml-train-core~=1.59.0->azureml-train) (1.5.0)\n",
      "Requirement already satisfied: charset-normalizer<4,>=2 in c:\\users\\usuario\\documents\\github\\proyecto_final\\azure\\lib\\site-packages (from requests<3.0.0,>=2.19.1->requests[socks]<3.0.0,>=2.19.1->azureml-core~=1.59.0->azureml-train-core~=1.59.0->azureml-train) (3.4.1)\n",
      "Requirement already satisfied: idna<4,>=2.5 in c:\\users\\usuario\\documents\\github\\proyecto_final\\azure\\lib\\site-packages (from requests<3.0.0,>=2.19.1->requests[socks]<3.0.0,>=2.19.1->azureml-core~=1.59.0->azureml-train-core~=1.59.0->azureml-train) (3.10)\n",
      "Requirement already satisfied: PySocks!=1.5.7,>=1.5.6 in c:\\users\\usuario\\documents\\github\\proyecto_final\\azure\\lib\\site-packages (from requests[socks]<3.0.0,>=2.19.1->azureml-core~=1.59.0->azureml-train-core~=1.59.0->azureml-train) (1.7.1)\n",
      "Requirement already satisfied: jeepney>=0.6 in c:\\users\\usuario\\documents\\github\\proyecto_final\\azure\\lib\\site-packages (from SecretStorage<4.0.0->azureml-core~=1.59.0->azureml-train-core~=1.59.0->azureml-train) (0.8.0)\n",
      "Requirement already satisfied: backports.weakref in c:\\users\\usuario\\documents\\github\\proyecto_final\\azure\\lib\\site-packages (from backports.tempfile->azureml-core~=1.59.0->azureml-train-core~=1.59.0->azureml-train) (1.0.post1)\n",
      "Requirement already satisfied: cffi>=1.12 in c:\\users\\usuario\\documents\\github\\proyecto_final\\azure\\lib\\site-packages (from cryptography>=1.1.0->adal<=1.2.7,>=1.2.0->azureml-core~=1.59.0->azureml-train-core~=1.59.0->azureml-train) (1.17.1)\n",
      "Requirement already satisfied: oauthlib>=3.0.0 in c:\\users\\usuario\\documents\\github\\proyecto_final\\azure\\lib\\site-packages (from requests-oauthlib>=0.5.0->msrest<=0.7.1,>=0.5.1->azureml-core~=1.59.0->azureml-train-core~=1.59.0->azureml-train) (3.2.2)\n",
      "Requirement already satisfied: pycparser in c:\\users\\usuario\\documents\\github\\proyecto_final\\azure\\lib\\site-packages (from cffi>=1.12->cryptography>=1.1.0->adal<=1.2.7,>=1.2.0->azureml-core~=1.59.0->azureml-train-core~=1.59.0->azureml-train) (2.22)\n",
      "Note: you may need to restart the kernel to use updated packages.\n"
     ]
    },
    {
     "name": "stderr",
     "output_type": "stream",
     "text": [
      "\n",
      "[notice] A new release of pip is available: 24.0 -> 25.0\n",
      "[notice] To update, run: python.exe -m pip install --upgrade pip\n"
     ]
    }
   ],
   "source": [
    "%pip install azureml-train"
   ]
  },
  {
   "cell_type": "code",
   "execution_count": 10,
   "metadata": {},
   "outputs": [
    {
     "name": "stdout",
     "output_type": "stream",
     "text": [
      "Error: 'ellipsis' object has no attribute 'predict'\n"
     ]
    }
   ],
   "source": [
    "import pickle\n",
    "import pandas as pd\n",
    "\n",
    "# Ruta al archivo del modelo\n",
    "model_path = 'modelo/model.pkl'\n",
    "\n",
    "# Función para cargar el modelo\n",
    "def load_model(path):\n",
    "    with open(path, 'rb') as file:\n",
    "        model = pickle.load(file)\n",
    "    return model\n",
    "\n",
    "try:\n",
    "    # Cargar el modelo\n",
    "    model = load_model(model_path)\n",
    "    \n",
    "    # Recolección de datos de entrada con manejo de errores\n",
    "    def get_numeric_input(prompt):\n",
    "        while True:\n",
    "            try:\n",
    "                return float(input(prompt))\n",
    "            except ValueError:\n",
    "                print(\"Por favor, ingrese un número válido.\")\n",
    "\n",
    "    # Recolección de datos\n",
    "    age = int(input(\"Edad: \"))\n",
    "    dependents = int(input(\"Dependientes: \"))\n",
    "    occupation = input(\"Ocupación: \")\n",
    "    city_tier = input(\"Ciudad: \")\n",
    "    rent = get_numeric_input(\"Renta ($): \")\n",
    "    loan = get_numeric_input(\"Préstamo ($): \")\n",
    "    income = get_numeric_input(\"Ingreso mensual ($): \")\n",
    "    disposible_income = get_numeric_input(\"Ingreso disponible ($): \")\n",
    "    gasto_fijo = get_numeric_input(\"Gastos fijos ($): \")\n",
    "    gasto_variable = get_numeric_input(\"Gastos variables ($): \")\n",
    "\n",
    "    # Crear un DataFrame con los datos de entrada\n",
    "    input_data = pd.DataFrame({\n",
    "        'age': [age],\n",
    "        'dependents': [dependents],\n",
    "        'occupation': [occupation],\n",
    "        'city_tier': [city_tier],\n",
    "        'rent': [rent],\n",
    "        'loan': [loan],\n",
    "        'income': [income],\n",
    "        'disposible_income': [disposible_income],\n",
    "        'gasto_fijo': [gasto_fijo],\n",
    "        'gasto_variable': [gasto_variable]\n",
    "    })\n",
    "\n",
    "    # Hacer predicciones\n",
    "    predicciones = model.predict(input_data)\n",
    "\n",
    "    # Mostrar resultados\n",
    "    print(\"\\nResultado de la predicción:\")\n",
    "    print(\"---------------------------\")\n",
    "    print(f\"Predicción: {predicciones[0]}\")\n",
    "    \n",
    "except FileNotFoundError:\n",
    "    print(f\"Error: No se encontró el archivo del modelo en {model_path}\")\n",
    "except Exception as e:\n",
    "    print(f\"Error: {str(e)}\")"
   ]
  },
  {
   "cell_type": "code",
   "execution_count": 17,
   "metadata": {},
   "outputs": [],
   "source": [
    "model_path='modelo\\model.pkl'"
   ]
  },
  {
   "cell_type": "code",
   "execution_count": 18,
   "metadata": {},
   "outputs": [
    {
     "name": "stdout",
     "output_type": "stream",
     "text": [
      "Archivo encontrado: True\n"
     ]
    }
   ],
   "source": [
    "import os\n",
    "print(\"Archivo encontrado:\", os.path.exists(model_path))\n"
   ]
  },
  {
   "cell_type": "code",
   "execution_count": 19,
   "metadata": {},
   "outputs": [
    {
     "name": "stdout",
     "output_type": "stream",
     "text": [
      "Modelo cargado correctamente.\n"
     ]
    }
   ],
   "source": [
    "import pickle\n",
    "\n",
    "def load_model(path):\n",
    "    try:\n",
    "        with open(path, \"rb\") as file:\n",
    "            model = pickle.load(file)\n",
    "        print(\"Modelo cargado correctamente.\")\n",
    "        return model\n",
    "    except Exception as e:\n",
    "        print(\"Error al cargar el modelo:\", e)\n",
    "        return None\n",
    "\n",
    "model = load_model(model_path)\n"
   ]
  },
  {
   "cell_type": "code",
   "execution_count": 26,
   "metadata": {},
   "outputs": [
    {
     "name": "stdout",
     "output_type": "stream",
     "text": [
      "Modelo cargado correctamente: <class 'ellipsis'>\n"
     ]
    }
   ],
   "source": [
    "try:\n",
    "    with open(model_path, \"rb\") as file:\n",
    "        model = pickle.load(file)\n",
    "\n",
    "    print(\"Modelo cargado correctamente:\", type(model))  # Verificar qué tipo de objeto es\n",
    "except Exception as e:\n",
    "    print(\"Error al cargar el modelo:\", e)\n",
    "    "
   ]
  },
  {
   "cell_type": "code",
   "execution_count": 20,
   "metadata": {},
   "outputs": [
    {
     "name": "stdout",
     "output_type": "stream",
     "text": [
      "Tipo de modelo: <class 'ellipsis'>\n",
      "['__class__', '__delattr__', '__dir__', '__doc__', '__eq__', '__format__', '__ge__', '__getattribute__', '__getstate__', '__gt__', '__hash__', '__init__', '__init_subclass__', '__le__', '__lt__', '__ne__', '__new__', '__reduce__', '__reduce_ex__', '__repr__', '__setattr__', '__sizeof__', '__str__', '__subclasshook__']\n"
     ]
    }
   ],
   "source": [
    "print(\"Tipo de modelo:\", type(model))\n",
    "print(dir(model))  # Muestra los métodos disponibles\n"
   ]
  },
  {
   "cell_type": "code",
   "execution_count": 23,
   "metadata": {},
   "outputs": [
    {
     "name": "stdout",
     "output_type": "stream",
     "text": [
      "Occupation numérico: 0\n",
      "City Tier numérico: 2\n"
     ]
    }
   ],
   "source": [
    "# Diccionario para occupation\n",
    "occupation_map = {\n",
    "    \"Empleado\": 0,\n",
    "    \"Empresario\": 1,\n",
    "    \"Desempleado\": 2\n",
    "}\n",
    "\n",
    "# Diccionario para city_tier\n",
    "city_tier_map = {\n",
    "    \"Tier 1\": 1,\n",
    "    \"Tier 2\": 2,\n",
    "    \"Tier 3\": 3\n",
    "}\n",
    "\n",
    "# Convertimos los valores de entrada\n",
    "occupation_numerico = occupation_map.get(\"Empleado\", -1)  # Si el valor no está en el diccionario, devuelve -1\n",
    "city_tier_numerico = city_tier_map.get(\"Tier 2\", -1)\n",
    "\n",
    "print(\"Occupation numérico:\", occupation_numerico)\n",
    "print(\"City Tier numérico:\", city_tier_numerico)\n"
   ]
  },
  {
   "cell_type": "code",
   "execution_count": 25,
   "metadata": {},
   "outputs": [
    {
     "ename": "AttributeError",
     "evalue": "'ellipsis' object has no attribute 'predict'",
     "output_type": "error",
     "traceback": [
      "\u001b[1;31m---------------------------------------------------------------------------\u001b[0m",
      "\u001b[1;31mAttributeError\u001b[0m                            Traceback (most recent call last)",
      "Cell \u001b[1;32mIn[25], line 11\u001b[0m\n\u001b[0;32m      8\u001b[0m input_data \u001b[38;5;241m=\u001b[39m np\u001b[38;5;241m.\u001b[39marray([[age, dependents, occupation, city_tier, rent, loan, income, disposible_income, gasto_fijo, gasto_variable]])\n\u001b[0;32m     10\u001b[0m \u001b[38;5;66;03m# Hacer la predicción\u001b[39;00m\n\u001b[1;32m---> 11\u001b[0m predictions \u001b[38;5;241m=\u001b[39m \u001b[43mmodel\u001b[49m\u001b[38;5;241;43m.\u001b[39;49m\u001b[43mpredict\u001b[49m(input_data)\n\u001b[0;32m     13\u001b[0m \u001b[38;5;28mprint\u001b[39m(\u001b[38;5;124m\"\u001b[39m\u001b[38;5;124mPredicción:\u001b[39m\u001b[38;5;124m\"\u001b[39m, predictions)\n",
      "\u001b[1;31mAttributeError\u001b[0m: 'ellipsis' object has no attribute 'predict'"
     ]
    }
   ],
   "source": [
    "import numpy as np\n",
    "\n",
    "# Valores convertidos a numéricos\n",
    "occupation = occupation_map.get(\"Empleado\", -1)\n",
    "city_tier = city_tier_map.get(\"Tier 2\", -1)\n",
    "\n",
    "# Crear el array de entrada para la predicción\n",
    "input_data = np.array([[age, dependents, occupation, city_tier, rent, loan, income, disposible_income, gasto_fijo, gasto_variable]])\n",
    "\n",
    "# Hacer la predicción\n",
    "predictions = model.predict(input_data)\n",
    "\n",
    "print(\"Predicción:\", predictions)\n",
    "\n"
   ]
  },
  {
   "cell_type": "code",
   "execution_count": 27,
   "metadata": {},
   "outputs": [
    {
     "name": "stdout",
     "output_type": "stream",
     "text": [
      "El archivo del modelo existe.\n"
     ]
    }
   ],
   "source": [
    "import os\n",
    "\n",
    "if os.path.exists(model_path):\n",
    "    print(\"El archivo del modelo existe.\")\n",
    "else:\n",
    "    print(\"El archivo del modelo NO existe. Verifica la ruta:\", model_path)"
   ]
  },
  {
   "cell_type": "code",
   "execution_count": 29,
   "metadata": {},
   "outputs": [
    {
     "name": "stdout",
     "output_type": "stream",
     "text": [
      "b'\\x80\\x04\\x95\\x19\\x00\\x00\\x00\\x00\\x00\\x00\\x00\\x8c\\x08builtins\\x94\\x8c\\x08Ellipsis\\x94\\x93\\x94.'\n"
     ]
    }
   ],
   "source": [
    "import pickle\n",
    "\n",
    "with open(\"modelo/model.pkl\", \"rb\") as file:\n",
    "    contenido = file.read(100)  # Leer los primeros 100 bytes para inspeccionar\n",
    "    print(contenido)\n"
   ]
  },
  {
   "cell_type": "code",
   "execution_count": 30,
   "metadata": {},
   "outputs": [
    {
     "name": "stdout",
     "output_type": "stream",
     "text": [
      "<class 'ellipsis'>\n"
     ]
    }
   ],
   "source": [
    "import joblib\n",
    "\n",
    "model = joblib.load(\"modelo/model.pkl\")\n",
    "print(type(model))\n"
   ]
  },
  {
   "cell_type": "code",
   "execution_count": 31,
   "metadata": {},
   "outputs": [
    {
     "data": {
      "text/plain": [
       "['modelo.pkl']"
      ]
     },
     "execution_count": 31,
     "metadata": {},
     "output_type": "execute_result"
    }
   ],
   "source": [
    "import joblib\n",
    "joblib.dump(model, \"modelo.pkl\")\n"
   ]
  },
  {
   "cell_type": "code",
   "execution_count": 32,
   "metadata": {},
   "outputs": [
    {
     "name": "stdout",
     "output_type": "stream",
     "text": [
      "<class 'ellipsis'>\n"
     ]
    }
   ],
   "source": [
    "model = joblib.load(\"modelo.pkl\")\n",
    "print(type(model))"
   ]
  }
 ],
 "metadata": {
  "kernelspec": {
   "display_name": "azure",
   "language": "python",
   "name": "python3"
  },
  "language_info": {
   "codemirror_mode": {
    "name": "ipython",
    "version": 3
   },
   "file_extension": ".py",
   "mimetype": "text/x-python",
   "name": "python",
   "nbconvert_exporter": "python",
   "pygments_lexer": "ipython3",
   "version": "3.11.9"
  }
 },
 "nbformat": 4,
 "nbformat_minor": 2
}
