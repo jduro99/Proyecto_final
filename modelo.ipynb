{
 "cells": [
  {
   "cell_type": "code",
   "execution_count": 4,
   "metadata": {},
   "outputs": [
    {
     "ename": "ModuleNotFoundError",
     "evalue": "No module named 'azureml.training'",
     "output_type": "error",
     "traceback": [
      "\u001b[1;31m---------------------------------------------------------------------------\u001b[0m",
      "\u001b[1;31mModuleNotFoundError\u001b[0m                       Traceback (most recent call last)",
      "Cell \u001b[1;32mIn[4], line 16\u001b[0m\n\u001b[0;32m     13\u001b[0m     \u001b[38;5;28;01mreturn\u001b[39;00m model\n\u001b[0;32m     15\u001b[0m \u001b[38;5;66;03m# Cargar el modelo\u001b[39;00m\n\u001b[1;32m---> 16\u001b[0m model \u001b[38;5;241m=\u001b[39m \u001b[43mload_model\u001b[49m\u001b[43m(\u001b[49m\u001b[43mmodel_path\u001b[49m\u001b[43m)\u001b[49m\n\u001b[0;32m     18\u001b[0m \u001b[38;5;66;03m# Ejemplo de datos de entrada\u001b[39;00m\n\u001b[0;32m     19\u001b[0m \u001b[38;5;66;03m# Cambia esto según las características esperadas por tu modelo\u001b[39;00m\n\u001b[0;32m     21\u001b[0m age \u001b[38;5;241m=\u001b[39m \u001b[38;5;28mint\u001b[39m(\u001b[38;5;28minput\u001b[39m(\u001b[38;5;124m\"\u001b[39m\u001b[38;5;124mEdad: \u001b[39m\u001b[38;5;124m\"\u001b[39m))\n",
      "Cell \u001b[1;32mIn[4], line 12\u001b[0m, in \u001b[0;36mload_model\u001b[1;34m(path)\u001b[0m\n\u001b[0;32m     10\u001b[0m \u001b[38;5;28;01mdef\u001b[39;00m \u001b[38;5;21mload_model\u001b[39m(path):\n\u001b[0;32m     11\u001b[0m     \u001b[38;5;28;01mwith\u001b[39;00m \u001b[38;5;28mopen\u001b[39m(path, \u001b[38;5;124m'\u001b[39m\u001b[38;5;124mrb\u001b[39m\u001b[38;5;124m'\u001b[39m) \u001b[38;5;28;01mas\u001b[39;00m file:\n\u001b[1;32m---> 12\u001b[0m         model \u001b[38;5;241m=\u001b[39m \u001b[43mpickle\u001b[49m\u001b[38;5;241;43m.\u001b[39;49m\u001b[43mload\u001b[49m\u001b[43m(\u001b[49m\u001b[43mfile\u001b[49m\u001b[43m)\u001b[49m\n\u001b[0;32m     13\u001b[0m     \u001b[38;5;28;01mreturn\u001b[39;00m model\n",
      "\u001b[1;31mModuleNotFoundError\u001b[0m: No module named 'azureml.training'"
     ]
    }
   ],
   "source": [
    "import pickle\n",
    "import pandas as pd\n",
    "from azureml.core import Workspace\n",
    "from azureml.core.model import Model\n",
    "\n",
    "# Ruta al archivo del modelo\n",
    "model_path = 'modelo/model.pkl'\n",
    "\n",
    "# Cargar el modelo desde el archivo .pkl\n",
    "def load_model(path):\n",
    "    with open(path, 'rb') as file:\n",
    "        model = pickle.load(file)\n",
    "    return model\n",
    "\n",
    "# Cargar el modelo\n",
    "model = load_model(model_path)\n",
    "\n",
    "# Ejemplo de datos de entrada\n",
    "# Cambia esto según las características esperadas por tu modelo\n",
    "\n",
    "age = int(input(\"Edad: \"))\n",
    "dependents= int(input(\"Dependientes: \"))\n",
    "occupation = input(\"Ocupación: \")\n",
    "city_tier = input(\"Ciudad: \")\n",
    "rent=   int(input(\"Renta (₹): \"))\n",
    "loan=   int(input(\"Préstamo (₹): \"))\n",
    "income = int(input(\"Ingreso mensual (₹): \"))\n",
    "disposible_income = int(input(\"Ingreso disponible (₹): \"))\n",
    "gasto_fijo = int(input(\"Gastos fijos (₹): \"))\n",
    "gasto_variable =    int(input(\"Gastos variables (₹): \"))\n",
    "\n",
    "\n",
    "# Hacer predicciones\n",
    "predictions = model.predict(age,dependents,occupation,city_tier,rent,loan,income,disposible_income,gasto_fijo,gasto_variable)\n",
    "\n",
    "# Mostrar resultados\n",
    "print(\"Predicciones:\", predictions)\n"
   ]
  }
 ],
 "metadata": {
  "kernelspec": {
   "display_name": "Python 3",
   "language": "python",
   "name": "python3"
  },
  "language_info": {
   "codemirror_mode": {
    "name": "ipython",
    "version": 3
   },
   "file_extension": ".py",
   "mimetype": "text/x-python",
   "name": "python",
   "nbconvert_exporter": "python",
   "pygments_lexer": "ipython3",
   "version": "3.11.9"
  }
 },
 "nbformat": 4,
 "nbformat_minor": 2
}
